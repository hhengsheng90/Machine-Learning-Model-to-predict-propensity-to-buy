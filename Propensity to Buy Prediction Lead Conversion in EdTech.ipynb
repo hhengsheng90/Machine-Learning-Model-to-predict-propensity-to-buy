{
 "cells": [
  {
   "cell_type": "code",
   "execution_count": 1,
   "id": "4e7a0fee-62fe-4bb5-a170-500586ad16d7",
   "metadata": {},
   "outputs": [],
   "source": [
    "#import libraries\n",
    "import pandas as pd\n",
    "import os\n",
    "import zipfile\n",
    "import matplotlib.pyplot as plt\n",
    "from sklearn.preprocessing import OneHotEncoder\n",
    "from sklearn.compose import ColumnTransformer\n",
    "from sklearn.impute import SimpleImputer\n",
    "from sklearn.model_selection import train_test_split\n",
    "from sklearn.ensemble import RandomForestClassifier\n",
    "from sklearn.metrics import accuracy_score\n",
    "from sklearn import metrics\n",
    "from sklearn.metrics import (\n",
    "    accuracy_score, \n",
    "    recall_score, \n",
    "    precision_score, \n",
    "    make_scorer, \n",
    "    confusion_matrix, \n",
    "    ConfusionMatrixDisplay, \n",
    "    confusion_matrix,\n",
    "    r2_score)\n",
    "from sklearn.model_selection import GridSearchCV\n",
    "from sklearn.model_selection import RandomizedSearchCV\n",
    "from sklearn.calibration import CalibratedClassifierCV\n",
    "from sklearn.preprocessing import StandardScaler\n",
    "import numpy as np"
   ]
  },
  {
   "cell_type": "code",
   "execution_count": 2,
   "id": "f98d5090-df3d-47e9-a9ee-af6a0221f765",
   "metadata": {},
   "outputs": [
    {
     "name": "stdout",
     "output_type": "stream",
     "text": [
      "Dataset URL: https://www.kaggle.com/datasets/ashydv/leads-dataset\n",
      "License(s): unknown\n",
      "leads-dataset.zip: Skipping, found more recently modified local copy (use --force to force download)\n",
      "<class 'pandas.core.frame.DataFrame'>\n",
      "RangeIndex: 9240 entries, 0 to 9239\n",
      "Data columns (total 37 columns):\n",
      " #   Column                                         Non-Null Count  Dtype  \n",
      "---  ------                                         --------------  -----  \n",
      " 0   Prospect ID                                    9240 non-null   object \n",
      " 1   Lead Number                                    9240 non-null   int64  \n",
      " 2   Lead Origin                                    9240 non-null   object \n",
      " 3   Lead Source                                    9204 non-null   object \n",
      " 4   Do Not Email                                   9240 non-null   object \n",
      " 5   Do Not Call                                    9240 non-null   object \n",
      " 6   Converted                                      9240 non-null   int64  \n",
      " 7   TotalVisits                                    9103 non-null   float64\n",
      " 8   Total Time Spent on Website                    9240 non-null   int64  \n",
      " 9   Page Views Per Visit                           9103 non-null   float64\n",
      " 10  Last Activity                                  9137 non-null   object \n",
      " 11  Country                                        6779 non-null   object \n",
      " 12  Specialization                                 7802 non-null   object \n",
      " 13  How did you hear about X Education             7033 non-null   object \n",
      " 14  What is your current occupation                6550 non-null   object \n",
      " 15  What matters most to you in choosing a course  6531 non-null   object \n",
      " 16  Search                                         9240 non-null   object \n",
      " 17  Magazine                                       9240 non-null   object \n",
      " 18  Newspaper Article                              9240 non-null   object \n",
      " 19  X Education Forums                             9240 non-null   object \n",
      " 20  Newspaper                                      9240 non-null   object \n",
      " 21  Digital Advertisement                          9240 non-null   object \n",
      " 22  Through Recommendations                        9240 non-null   object \n",
      " 23  Receive More Updates About Our Courses         9240 non-null   object \n",
      " 24  Tags                                           5887 non-null   object \n",
      " 25  Lead Quality                                   4473 non-null   object \n",
      " 26  Update me on Supply Chain Content              9240 non-null   object \n",
      " 27  Get updates on DM Content                      9240 non-null   object \n",
      " 28  Lead Profile                                   6531 non-null   object \n",
      " 29  City                                           7820 non-null   object \n",
      " 30  Asymmetrique Activity Index                    5022 non-null   object \n",
      " 31  Asymmetrique Profile Index                     5022 non-null   object \n",
      " 32  Asymmetrique Activity Score                    5022 non-null   float64\n",
      " 33  Asymmetrique Profile Score                     5022 non-null   float64\n",
      " 34  I agree to pay the amount through cheque       9240 non-null   object \n",
      " 35  A free copy of Mastering The Interview         9240 non-null   object \n",
      " 36  Last Notable Activity                          9240 non-null   object \n",
      "dtypes: float64(4), int64(3), object(30)\n",
      "memory usage: 2.6+ MB\n"
     ]
    },
    {
     "data": {
      "text/html": [
       "<div>\n",
       "<style scoped>\n",
       "    .dataframe tbody tr th:only-of-type {\n",
       "        vertical-align: middle;\n",
       "    }\n",
       "\n",
       "    .dataframe tbody tr th {\n",
       "        vertical-align: top;\n",
       "    }\n",
       "\n",
       "    .dataframe thead th {\n",
       "        text-align: right;\n",
       "    }\n",
       "</style>\n",
       "<table border=\"1\" class=\"dataframe\">\n",
       "  <thead>\n",
       "    <tr style=\"text-align: right;\">\n",
       "      <th></th>\n",
       "      <th>Lead Number</th>\n",
       "      <th>Converted</th>\n",
       "      <th>TotalVisits</th>\n",
       "      <th>Total Time Spent on Website</th>\n",
       "      <th>Page Views Per Visit</th>\n",
       "      <th>Asymmetrique Activity Score</th>\n",
       "      <th>Asymmetrique Profile Score</th>\n",
       "    </tr>\n",
       "  </thead>\n",
       "  <tbody>\n",
       "    <tr>\n",
       "      <th>count</th>\n",
       "      <td>9240.000000</td>\n",
       "      <td>9240.000000</td>\n",
       "      <td>9103.000000</td>\n",
       "      <td>9240.000000</td>\n",
       "      <td>9103.000000</td>\n",
       "      <td>5022.000000</td>\n",
       "      <td>5022.000000</td>\n",
       "    </tr>\n",
       "    <tr>\n",
       "      <th>mean</th>\n",
       "      <td>617188.435606</td>\n",
       "      <td>0.385390</td>\n",
       "      <td>3.445238</td>\n",
       "      <td>487.698268</td>\n",
       "      <td>2.362820</td>\n",
       "      <td>14.306252</td>\n",
       "      <td>16.344883</td>\n",
       "    </tr>\n",
       "    <tr>\n",
       "      <th>std</th>\n",
       "      <td>23405.995698</td>\n",
       "      <td>0.486714</td>\n",
       "      <td>4.854853</td>\n",
       "      <td>548.021466</td>\n",
       "      <td>2.161418</td>\n",
       "      <td>1.386694</td>\n",
       "      <td>1.811395</td>\n",
       "    </tr>\n",
       "    <tr>\n",
       "      <th>min</th>\n",
       "      <td>579533.000000</td>\n",
       "      <td>0.000000</td>\n",
       "      <td>0.000000</td>\n",
       "      <td>0.000000</td>\n",
       "      <td>0.000000</td>\n",
       "      <td>7.000000</td>\n",
       "      <td>11.000000</td>\n",
       "    </tr>\n",
       "    <tr>\n",
       "      <th>25%</th>\n",
       "      <td>596484.500000</td>\n",
       "      <td>0.000000</td>\n",
       "      <td>1.000000</td>\n",
       "      <td>12.000000</td>\n",
       "      <td>1.000000</td>\n",
       "      <td>14.000000</td>\n",
       "      <td>15.000000</td>\n",
       "    </tr>\n",
       "    <tr>\n",
       "      <th>50%</th>\n",
       "      <td>615479.000000</td>\n",
       "      <td>0.000000</td>\n",
       "      <td>3.000000</td>\n",
       "      <td>248.000000</td>\n",
       "      <td>2.000000</td>\n",
       "      <td>14.000000</td>\n",
       "      <td>16.000000</td>\n",
       "    </tr>\n",
       "    <tr>\n",
       "      <th>75%</th>\n",
       "      <td>637387.250000</td>\n",
       "      <td>1.000000</td>\n",
       "      <td>5.000000</td>\n",
       "      <td>936.000000</td>\n",
       "      <td>3.000000</td>\n",
       "      <td>15.000000</td>\n",
       "      <td>18.000000</td>\n",
       "    </tr>\n",
       "    <tr>\n",
       "      <th>max</th>\n",
       "      <td>660737.000000</td>\n",
       "      <td>1.000000</td>\n",
       "      <td>251.000000</td>\n",
       "      <td>2272.000000</td>\n",
       "      <td>55.000000</td>\n",
       "      <td>18.000000</td>\n",
       "      <td>20.000000</td>\n",
       "    </tr>\n",
       "  </tbody>\n",
       "</table>\n",
       "</div>"
      ],
      "text/plain": [
       "         Lead Number    Converted  TotalVisits  Total Time Spent on Website  \\\n",
       "count    9240.000000  9240.000000  9103.000000                  9240.000000   \n",
       "mean   617188.435606     0.385390     3.445238                   487.698268   \n",
       "std     23405.995698     0.486714     4.854853                   548.021466   \n",
       "min    579533.000000     0.000000     0.000000                     0.000000   \n",
       "25%    596484.500000     0.000000     1.000000                    12.000000   \n",
       "50%    615479.000000     0.000000     3.000000                   248.000000   \n",
       "75%    637387.250000     1.000000     5.000000                   936.000000   \n",
       "max    660737.000000     1.000000   251.000000                  2272.000000   \n",
       "\n",
       "       Page Views Per Visit  Asymmetrique Activity Score  \\\n",
       "count           9103.000000                  5022.000000   \n",
       "mean               2.362820                    14.306252   \n",
       "std                2.161418                     1.386694   \n",
       "min                0.000000                     7.000000   \n",
       "25%                1.000000                    14.000000   \n",
       "50%                2.000000                    14.000000   \n",
       "75%                3.000000                    15.000000   \n",
       "max               55.000000                    18.000000   \n",
       "\n",
       "       Asymmetrique Profile Score  \n",
       "count                 5022.000000  \n",
       "mean                    16.344883  \n",
       "std                      1.811395  \n",
       "min                     11.000000  \n",
       "25%                     15.000000  \n",
       "50%                     16.000000  \n",
       "75%                     18.000000  \n",
       "max                     20.000000  "
      ]
     },
     "execution_count": 2,
     "metadata": {},
     "output_type": "execute_result"
    }
   ],
   "source": [
    "#Downloading dataset from Kaggle\n",
    "!kaggle datasets download -d ashydv/leads-dataset\n",
    "#Unzipping the file\n",
    "zipfile_path = os.getcwd()+'\\leads-dataset.zip'\n",
    "with zipfile.ZipFile(zipfile_path, 'r') as zip_ref:\n",
    "    zip_ref.extractall(os.getcwd())\n",
    "\n",
    "#reading the dataset into pandas\n",
    "df = pd.read_csv(os.getcwd()+'\\Leads.csv')\n",
    "#df = df.dropna(subset=['Lead Quality'])\n",
    "df.info()\n",
    "df.describe()"
   ]
  },
  {
   "cell_type": "code",
   "execution_count": 3,
   "id": "971f98b0-79e3-468b-8861-d8012fdf20a9",
   "metadata": {},
   "outputs": [
    {
     "data": {
      "image/png": "[encoded data removed]",
      "text/plain": [
       "<Figure size 1200x600 with 3 Axes>"
      ]
     },
     "metadata": {},
     "output_type": "display_data"
    }
   ],
   "source": [
    "#ploting out boxplot\n",
    "df2 = df[['TotalVisits','Total Time Spent on Website','Page Views Per Visit']]\n",
    "\n",
    "fig, axes = plt.subplots(nrows=1, ncols=len(df2.columns), figsize=(12, 6))\n",
    "for idx, column in enumerate(df2.columns):\n",
    "    df2.boxplot(column=column, ax=axes[idx])\n",
    "    axes[idx].set_title(f'Box Plot of {column}')\n",
    "    axes[idx].set_ylabel('Values')\n",
    "    axes[idx].set_xlabel(column)\n",
    "\n",
    "plt.tight_layout()\n",
    "plt.show()"
   ]
  },
  {
   "cell_type": "code",
   "execution_count": 4,
   "id": "388e53a0-6cad-4ba1-84d0-726fc86b76a4",
   "metadata": {},
   "outputs": [],
   "source": [
    "# drop lead quality\n",
    "df = df.drop('Lead Quality', axis=1)\n",
    "\n",
    "#assign different imputation strategy\n",
    "numerical_imputer = SimpleImputer(strategy='median')\n",
    "categorical_imputer = SimpleImputer(strategy='most_frequent')\n",
    "numerical_imputer2 = SimpleImputer(strategy='mean')\n",
    "\n",
    "#assign variables into 3 different buckets for imputation\n",
    "numerical_cols = ['TotalVisits','Page Views Per Visit']\n",
    "numerical_col2 = ['Lead Number','Total Time Spent on Website','Asymmetrique Activity Score','Asymmetrique Profile Score']\n",
    "categorical_cols = ['Prospect ID', 'Lead Origin', 'Lead Source', 'Do Not Email', 'Do Not Call','Last Activity','Country','Specialization','How did you hear about X Education','What is your current occupation','What matters most to you in choosing a course','Search','Magazine','Newspaper Article','X Education Forums','Newspaper','Digital Advertisement','Through Recommendations','Receive More Updates About Our Courses','Receive More Updates About Our Courses','Tags','Update me on Supply Chain Content','Get updates on DM Content','Lead Profile','City','Asymmetrique Activity Index','Asymmetrique Profile Index','I agree to pay the amount through cheque','A free copy of Mastering The Interview','Last Notable Activity']\n",
    "\n",
    "df[numerical_cols] = numerical_imputer.fit_transform(df[numerical_cols])\n",
    "df[numerical_col2] = numerical_imputer2.fit_transform(df[numerical_col2])\n",
    "df[categorical_cols] = categorical_imputer.fit_transform(df[categorical_cols])"
   ]
  },
  {
   "cell_type": "code",
   "execution_count": 5,
   "id": "942acbaf-e840-4487-9564-716f625ac4e7",
   "metadata": {},
   "outputs": [
    {
     "name": "stdout",
     "output_type": "stream",
     "text": [
      "4.0\n"
     ]
    }
   ],
   "source": [
    "#Removing Outliers\n",
    "#calculate the first and third quartile for 'TotalVisit' and the Interquartile Range\n",
    "df2 = df[['TotalVisits','Total Time Spent on Website','Page Views Per Visit']]\n",
    "Q1_Total_Visits = df2['TotalVisits'].quantile(0.25)\n",
    "Q3_Total_Visits = df2['TotalVisits'].quantile(0.75)\n",
    "IQR_total_visits = Q3_Total_Visits - Q1_Total_Visits\n",
    "print(IQR_total_visits)"
   ]
  },
  {
   "cell_type": "code",
   "execution_count": 6,
   "id": "a25eab41-64cc-4dbb-b279-7381b94202a4",
   "metadata": {},
   "outputs": [
    {
     "data": {
      "text/plain": [
       "(267,)"
      ]
     },
     "execution_count": 6,
     "metadata": {},
     "output_type": "execute_result"
    }
   ],
   "source": [
    "#Identify outliers in the 'TotalVisits' column using the IQR method\n",
    "outliers_total_visits = df2['TotalVisits'][(df2['TotalVisits'] < (Q1_Total_Visits - 1.5 * IQR_total_visits)) |(df2['TotalVisits'] > (Q3_Total_Visits + 1.5 * IQR_total_visits))]\n",
    "outliers_total_visits.shape"
   ]
  },
  {
   "cell_type": "code",
   "execution_count": 7,
   "id": "a0e6cecc-8b49-4104-8476-14b3f94e207d",
   "metadata": {},
   "outputs": [
    {
     "name": "stdout",
     "output_type": "stream",
     "text": [
      "2.0\n"
     ]
    }
   ],
   "source": [
    "#calculate the first and third quartile for 'TotalVisit' and the Interquartile Range\n",
    "df2 = df[['TotalVisits','Total Time Spent on Website','Page Views Per Visit']]\n",
    "Q1_page_view = df2['Page Views Per Visit'].quantile(0.25)\n",
    "Q3_page_view = df2['Page Views Per Visit'].quantile(0.75)\n",
    "IQR_page_view = Q3_page_view - Q1_page_view\n",
    "print(IQR_page_view)"
   ]
  },
  {
   "cell_type": "code",
   "execution_count": 8,
   "id": "74f54e88-dd92-4d66-bbd0-53168ec91a07",
   "metadata": {},
   "outputs": [
    {
     "data": {
      "text/plain": [
       "(360,)"
      ]
     },
     "execution_count": 8,
     "metadata": {},
     "output_type": "execute_result"
    }
   ],
   "source": [
    "#Identify outliers in the 'TotalVisits' column using the IQR method\n",
    "outliers_page_view = df2['Page Views Per Visit'][(df2['Page Views Per Visit'] < (Q1_page_view - 1.5 * IQR_page_view)) |(df2['Page Views Per Visit'] > (Q3_page_view + 1.5 * IQR_page_view))]\n",
    "outliers_page_view.shape"
   ]
  },
  {
   "cell_type": "code",
   "execution_count": 9,
   "id": "40d275e4-1b19-46f2-a178-908533112922",
   "metadata": {},
   "outputs": [
    {
     "data": {
      "text/plain": [
       "(8880, 36)"
      ]
     },
     "execution_count": 9,
     "metadata": {},
     "output_type": "execute_result"
    }
   ],
   "source": [
    "#droping rows that contain outliers \n",
    "df_no_outliers = df.drop(outliers_total_visits.index, axis = 0)\n",
    "df_no_outliers.shape\n",
    "\n",
    "df_no_outliers = df.drop(outliers_page_view.index, axis = 0)\n",
    "df = df_no_outliers\n",
    "df.shape"
   ]
  },
  {
   "cell_type": "code",
   "execution_count": 10,
   "id": "2a9101da-3116-43e6-af8d-5728f97278cc",
   "metadata": {},
   "outputs": [],
   "source": [
    "#Convert Categorical to Numbers - Use ColumnTransformer with OneHotEncoder\n",
    "categorical_cols = ['Prospect ID', 'Lead Origin', 'Lead Source', 'Do Not Email', 'Do Not Call','Last Activity','Country','Specialization','How did you hear about X Education','What is your current occupation','What matters most to you in choosing a course','Search','Magazine','Newspaper Article','X Education Forums','Newspaper','Digital Advertisement','Through Recommendations','Receive More Updates About Our Courses','Receive More Updates About Our Courses','Tags','Update me on Supply Chain Content','Get updates on DM Content','Lead Profile','City','Asymmetrique Activity Index','Asymmetrique Profile Index','I agree to pay the amount through cheque','A free copy of Mastering The Interview','Last Notable Activity']\n",
    "numerical_cols = ['TotalVisits','Total Time Spent on Website','Lead Number','Page Views Per Visit','Asymmetrique Activity Score','Asymmetrique Profile Score']\n",
    "preprocessor = ColumnTransformer(\n",
    "    transformers=[\n",
    "        ('num', 'passthrough', numerical_cols), \n",
    "        ('cat', OneHotEncoder(handle_unknown='ignore'), categorical_cols)\n",
    "    ])\n"
   ]
  },
  {
   "cell_type": "code",
   "execution_count": 11,
   "id": "e9a7dfb0-7d4c-4c9c-a42d-079ca23faf3c",
   "metadata": {},
   "outputs": [],
   "source": [
    "def metrics_output(model,flag=True):\n",
    "    '''\n",
    "    model : classifier to predict values of X\n",
    "\n",
    "    '''\n",
    "    # Generate predicted values\n",
    "    y_pred = model.predict(X_test)\n",
    "    \n",
    "    # defining an empty list to store train and test results\n",
    "    score_list=[] \n",
    "    \n",
    "    #Predicting on train and tests\n",
    "    pred_train = model.predict(X_train)\n",
    "    pred_test = model.predict(X_test)\n",
    "    \n",
    "    #Accuracy of the model\n",
    "    train_acc = model.score(X_train,y_train)\n",
    "    test_acc = model.score(X_test,y_test)\n",
    "    \n",
    "    #Recall of the model\n",
    "    train_recall = metrics.recall_score(y_train,pred_train)\n",
    "    test_recall = metrics.recall_score(y_test,pred_test)\n",
    "    \n",
    "    #Precision of the model\n",
    "    train_precision = metrics.precision_score(y_train,pred_train)\n",
    "    test_precision = metrics.precision_score(y_test,pred_test)\n",
    "    \n",
    "    score_list.extend((train_acc,test_acc,train_recall,test_recall,train_precision,test_precision))\n",
    "        \n",
    "    # If the flag is set to True then only the following print statements will be dispayed. The default value is set to True.\n",
    "    if flag == True: \n",
    "        print(\"Accuracy on training set : \",model.score(X_train,y_train))\n",
    "        print(\"Accuracy on test set : \",model.score(X_test,y_test))\n",
    "        print(\"Recall on training set : \",metrics.recall_score(y_train,pred_train))\n",
    "        print(\"Recall on test set : \",metrics.recall_score(y_test,pred_test))\n",
    "        print(\"Precision on training set : \",metrics.precision_score(y_train,pred_train))\n",
    "        print(\"Precision on test set : \",metrics.precision_score(y_test,pred_test))\n",
    "    \n",
    "    return score_list # returning the list with train and test scores"
   ]
  },
  {
   "cell_type": "code",
   "execution_count": 12,
   "id": "f94a445b-6198-4d39-b483-49c7b5db67d2",
   "metadata": {},
   "outputs": [],
   "source": [
    "X = df.drop('Converted', axis=1)\n",
    "y = df.pop('Converted')\n",
    "\n",
    "X_transformed = preprocessor.fit_transform(X)\n",
    "\n",
    "X_train, X_test, y_train, y_test = train_test_split(X_transformed, y, test_size=0.3, random_state=1, stratify=y)"
   ]
  },
  {
   "cell_type": "code",
   "execution_count": 13,
   "id": "61c4df58-5738-4750-b61f-dafa4fd37b3e",
   "metadata": {},
   "outputs": [
    {
     "name": "stdout",
     "output_type": "stream",
     "text": [
      "Accuracy on training set :  1.0\n",
      "Accuracy on test set :  0.9174174174174174\n",
      "Recall on training set :  1.0\n",
      "Recall on test set :  0.8549172346640701\n",
      "Precision on training set :  1.0\n",
      "Precision on test set :  0.9251844046364595\n"
     ]
    }
   ],
   "source": [
    "# Build and train a Random Forest model\n",
    "rf_model = RandomForestClassifier(n_estimators=100, random_state=42)\n",
    "rf_model.fit(X_train, y_train)\n",
    "\n",
    "y_pred_rf = rf_model.predict(X_test)\n",
    "rf_estimator_score=metrics_output(rf_model)"
   ]
  },
  {
   "cell_type": "code",
   "execution_count": null,
   "id": "6a7b5f02-eba1-4c17-a8b2-af2f16e8e488",
   "metadata": {},
   "outputs": [],
   "source": [
    "# Hyperparamter tuning - Choose the type of classifier. \n",
    "rf_estimator_tuned = RandomForestClassifier(random_state=1)\n",
    "\n",
    "# Grid of parameters to choose from\n",
    "parameters = {\"n_estimators\": [150,200, 250],\n",
    "    \"min_samples_leaf\": np.arange(5, 10),\n",
    "    \"max_features\": np.arange(0.2, 0.7, 0.1),\n",
    "    \"max_samples\": np.arange(0.3, 0.7, 0.1),\n",
    "    \"max_depth\" : [None, 10, 20, 30, 40, 50]\n",
    "             }\n",
    "\n",
    "# Choosing precision score as the metric for comparison\n",
    "scorer = make_scorer(precision_score)\n",
    "\n",
    "# Run the randomizedSearchCV\n",
    "rand_obj = RandomizedSearchCV(rf_estimator_tuned, parameters, scoring=scorer, cv=5)\n",
    "rand_obj = rand_obj.fit(X_train, y_train)\n",
    "\n",
    "# Choose the best classifier \n",
    "rf_estimator_tuned = rand_obj.best_estimator_\n",
    "\n",
    "# Train the best classifier \n",
    "rf_estimator_tuned.fit(X_train, y_train)\n",
    "\n",
    "# Obtain predicted values from the test set\n",
    "y_pred_rf_t = rf_estimator_tuned.predict(X_test)\n",
    "rf_estimator_score=metrics_output(rf_estimator_tuned)"
   ]
  },
  {
   "cell_type": "code",
   "execution_count": null,
   "id": "7f3fcc76-df9c-4957-b4f8-9534022fe744",
   "metadata": {},
   "outputs": [],
   "source": [
    "# Calculate feature importances\n",
    "feature_importances = rf_estimator_tuned.feature_importances_\n",
    "\n",
    "# Get the names of the categorical columns after one-hot encoding\n",
    "categorical_encoder = preprocessor.named_transformers_['cat']\n",
    "categorical_feature_names = categorical_encoder.get_feature_names_out(input_features=categorical_cols)\n",
    "\n",
    "# Combine numerical and one-hot encoded categorical feature names\n",
    "all_feature_names = numerical_cols + list(categorical_feature_names)\n",
    "\n",
    "# Create a DataFrame to store feature names and their importances\n",
    "feature_importance_df = pd.DataFrame({'Feature': all_feature_names, 'Importance': feature_importances})\n",
    "\n",
    "# Sort the DataFrame by importance in descending order\n",
    "feature_importance_df = feature_importance_df.sort_values(by='Importance', ascending=False)\n",
    "\n",
    "# Select the top 20 features by importance\n",
    "top_20_features = feature_importance_df.head(20)\n",
    "\n",
    "# Print the top 20 feature importances\n",
    "print(\"Top 20 Feature Importances:\")\n",
    "\n",
    "# Plot the top 20 feature importances\n",
    "plt.figure(figsize=(12, 8))\n",
    "plt.barh(range(len(top_20_features)), top_20_features['Importance'], align='center')\n",
    "plt.yticks(range(len(top_20_features)), top_20_features['Feature'])\n",
    "plt.xlabel('Feature Importance')\n",
    "plt.title('Top 20 Random Forest Feature Importance')\n",
    "plt.gca().invert_yaxis()\n",
    "plt.show()"
   ]
  },
  {
   "cell_type": "code",
   "execution_count": null,
   "id": "cfe825a7-7e08-473e-865b-5e79ee62b97d",
   "metadata": {},
   "outputs": [],
   "source": [
    "predictions = rf_estimator_tuned.predict(X_transformed)\n",
    "probability = rf_estimator_tuned.predict_proba(X_transformed)\n",
    "df['Predictions'] = predictions\n",
    "df['Probability'] = probability[:,1]\n",
    "df.to_csv('random_forest_predictions.csv', index=False)"
   ]
  }
 ],
 "metadata": {
  "kernelspec": {
   "display_name": "Python 3 (ipykernel)",
   "language": "python",
   "name": "python3"
  },
  "language_info": {
   "codemirror_mode": {
    "name": "ipython",
    "version": 3
   },
   "file_extension": ".py",
   "mimetype": "text/x-python",
   "name": "python",
   "nbconvert_exporter": "python",
   "pygments_lexer": "ipython3",
   "version": "3.11.7"
  }
 },
 "nbformat": 4,
 "nbformat_minor": 5
}
